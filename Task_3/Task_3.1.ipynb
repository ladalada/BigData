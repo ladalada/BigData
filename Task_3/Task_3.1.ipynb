{
 "cells": [
  {
   "cell_type": "markdown",
   "metadata": {},
   "source": [
    "## Задача 3\n",
    "### Часть 1\n",
    "\n",
    "Нужно написать скрипт, который скачивает все данные прошедших президентских выборов для всех избирательных участков.\n",
    "\n",
    "Входная точка по [ссылке](http://www.vybory.izbirkom.ru/region/region/izbirkom?action=show&root=1&tvd=100100084849066&vrn=100100084849062&region=0&global=1&sub_region=0&prver=0&pronetvd=null&vibid=100100084849066&type=227). \n",
    "Затем нужно перейти на сайты региональных избирательных комиссий. \n",
    "\n",
    "Результаты нужно сохранить в cvs-файл, sqlite базе данных или parquet-файле. \n",
    "\n",
    "В итоге должна получиться таблица с полями (headers): \n",
    "- название региона: regions_names\n",
    "- название ТИК (территориальная избирательная комиссия): TIKs_names\n",
    "- номер УИК (участковая избирательная комиссия): UIK_names\n",
    "- 20 стандартных полей из итогового протокола: UIK_statistics "
   ]
  },
  {
   "cell_type": "code",
   "execution_count": 95,
   "metadata": {},
   "outputs": [],
   "source": [
    "import requests\n",
    "from bs4 import BeautifulSoup\n",
    "import re\n",
    "import numpy as np\n",
    "import pandas as pd \n",
    "import csv"
   ]
  },
  {
   "cell_type": "code",
   "execution_count": 2,
   "metadata": {},
   "outputs": [],
   "source": [
    "start_link = 'http://www.vybory.izbirkom.ru/region/region/izbirkom?action=show&root=1&tvd=100100084849066&vrn=100100084849062&region=0&global=1&sub_region=0&prver=0&pronetvd=null&vibid=100100084849066&type=227'"
   ]
  },
  {
   "cell_type": "code",
   "execution_count": 3,
   "metadata": {},
   "outputs": [],
   "source": [
    "start_req = requests.get(start_link)"
   ]
  },
  {
   "cell_type": "code",
   "execution_count": 4,
   "metadata": {},
   "outputs": [],
   "source": [
    "start_soup = BeautifulSoup(start_req.text, 'lxml')"
   ]
  },
  {
   "cell_type": "markdown",
   "metadata": {},
   "source": [
    "### Названия полей в таблице"
   ]
  },
  {
   "cell_type": "code",
   "execution_count": 5,
   "metadata": {},
   "outputs": [],
   "source": [
    "headers = ['Регион', 'ТИК', 'УИК']"
   ]
  },
  {
   "cell_type": "code",
   "execution_count": 6,
   "metadata": {},
   "outputs": [],
   "source": [
    "def get_standard_fields_titles(soup):\n",
    "    standard_fields = []\n",
    "    standard_fields_soup = soup.findAll('table')[1].findAll('table')[6].findAll('tr')[1:]\n",
    "    for i in range(len(standard_fields_soup)):\n",
    "        standard_field = re.sub(\"\\d+|%|\\.|^\\s+|\\n|\\s+$\", '', standard_fields_soup[i].text)\n",
    "        if len(standard_field) > 1:\n",
    "            standard_fields.append(standard_field)\n",
    "    return standard_fields"
   ]
  },
  {
   "cell_type": "code",
   "execution_count": 7,
   "metadata": {},
   "outputs": [],
   "source": [
    "standard_fields_titles = get_standard_fields_titles(start_soup)"
   ]
  },
  {
   "cell_type": "code",
   "execution_count": 8,
   "metadata": {},
   "outputs": [],
   "source": [
    "headers.extend(standard_fields_titles)"
   ]
  },
  {
   "cell_type": "code",
   "execution_count": 9,
   "metadata": {},
   "outputs": [
    {
     "data": {
      "text/plain": [
       "23"
      ]
     },
     "execution_count": 9,
     "metadata": {},
     "output_type": "execute_result"
    }
   ],
   "source": [
    "len(headers)"
   ]
  },
  {
   "cell_type": "markdown",
   "metadata": {},
   "source": [
    "### Названия регионов и ссылки на их сайты"
   ]
  },
  {
   "cell_type": "code",
   "execution_count": 11,
   "metadata": {},
   "outputs": [],
   "source": [
    "regions_soup = start_soup.findAll('table')[1].findAll('table')[7].find('tr').findAll('td')"
   ]
  },
  {
   "cell_type": "code",
   "execution_count": 12,
   "metadata": {},
   "outputs": [
    {
     "data": {
      "text/plain": [
       "87"
      ]
     },
     "execution_count": 12,
     "metadata": {},
     "output_type": "execute_result"
    }
   ],
   "source": [
    "len(regions_soup)"
   ]
  },
  {
   "cell_type": "code",
   "execution_count": 13,
   "metadata": {},
   "outputs": [],
   "source": [
    "def get_names(soup):\n",
    "    return [soup[i].find('a').text for i in range(len(soup))]"
   ]
  },
  {
   "cell_type": "code",
   "execution_count": 14,
   "metadata": {},
   "outputs": [],
   "source": [
    "def get_links(soup):\n",
    "    return [soup[i].find('a')['href'] for i in range(len(soup))]"
   ]
  },
  {
   "cell_type": "code",
   "execution_count": 15,
   "metadata": {},
   "outputs": [],
   "source": [
    "regions_names = get_names(regions_soup)"
   ]
  },
  {
   "cell_type": "code",
   "execution_count": 16,
   "metadata": {},
   "outputs": [],
   "source": [
    "regions_links = get_links(regions_soup)"
   ]
  },
  {
   "cell_type": "markdown",
   "metadata": {},
   "source": [
    "### Названия ТИК и ссылки на их сайты"
   ]
  },
  {
   "cell_type": "code",
   "execution_count": 19,
   "metadata": {},
   "outputs": [],
   "source": [
    "def get_TIK_soup(reg_link):\n",
    "    reg_req = requests.get(reg_link)\n",
    "    reg_soup = BeautifulSoup(reg_req.text, 'lxml')\n",
    "    TIK_soup = reg_soup.findAll('table')[1].findAll('table')[7].find('tr').findAll('td')\n",
    "    return TIK_soup\n",
    "\n",
    "def get_TIKs_soups(reg_links):\n",
    "    TIKs_soups = []\n",
    "    for i in range(len(reg_links)):\n",
    "        TIK_soup = get_TIK_soup(reg_links[i])\n",
    "        TIKs_soups.append(TIK_soup)\n",
    "    return TIKs_soups"
   ]
  },
  {
   "cell_type": "code",
   "execution_count": 20,
   "metadata": {},
   "outputs": [],
   "source": [
    "def get_TIKs_names(soups, reg_links, reg_names):\n",
    "    TIKs_names = []\n",
    "    for i in range(len(soups)):\n",
    "        TIK_names = get_names(soups[i])\n",
    "        if TIK_names != []:\n",
    "            TIKs_names.append(TIK_names)\n",
    "        else:\n",
    "            TIKs_names.append([reg_names[i]])\n",
    "    return TIKs_names"
   ]
  },
  {
   "cell_type": "code",
   "execution_count": 21,
   "metadata": {},
   "outputs": [],
   "source": [
    "def get_TIKs_links(soups, reg_links):\n",
    "    TIKs_links = []\n",
    "    for i in range(len(soups)):\n",
    "        TIK_links = get_links(soups[i])\n",
    "        if TIK_links != []:\n",
    "            TIKs_links.append(TIK_links)\n",
    "        else:\n",
    "            TIKs_links.append([reg_links[i]])\n",
    "    return TIKs_links"
   ]
  },
  {
   "cell_type": "code",
   "execution_count": 22,
   "metadata": {},
   "outputs": [],
   "source": [
    "TIKs_soups = get_TIKs_soups(regions_links)"
   ]
  },
  {
   "cell_type": "code",
   "execution_count": 23,
   "metadata": {},
   "outputs": [],
   "source": [
    "TIKs_names = get_TIKs_names(TIKs_soups, regions_links, regions_names)"
   ]
  },
  {
   "cell_type": "code",
   "execution_count": 24,
   "metadata": {},
   "outputs": [],
   "source": [
    "TIKs_links = get_TIKs_links(TIKs_soups, regions_links)"
   ]
  },
  {
   "cell_type": "markdown",
   "metadata": {},
   "source": [
    "### Ссылки на сайты с УИК"
   ]
  },
  {
   "cell_type": "code",
   "execution_count": 27,
   "metadata": {},
   "outputs": [],
   "source": [
    "def get_UIK_link(link, UIK_links):\n",
    "    tik_req = requests.get(link)\n",
    "    tik_soup = BeautifulSoup(tik_req.text, 'lxml')\n",
    "    UIK_link = tik_soup.findAll('table')[1].findAll('tr')[1].find('td').find('a')['href']\n",
    "    UIK_links.append(UIK_link)\n",
    "    return UIK_links\n",
    "\n",
    "def get_UIK_links(link):\n",
    "    UIK_links = []\n",
    "    for j in range(len(link)):\n",
    "        UIK_links = get_UIK_link(link[j], UIK_links)\n",
    "    return UIK_links\n",
    "\n",
    "def get_UIKs_links(links):\n",
    "    UIKs_links = []\n",
    "    for i in range(len(links)):\n",
    "        UIK_links = get_UIK_links(links[i])\n",
    "        UIKs_links.append(UIK_links)\n",
    "    return UIKs_links"
   ]
  },
  {
   "cell_type": "code",
   "execution_count": 28,
   "metadata": {},
   "outputs": [],
   "source": [
    "UIKs_links = get_UIKs_links(TIKs_links)"
   ]
  },
  {
   "cell_type": "markdown",
   "metadata": {},
   "source": [
    "### Сбор названий и статистики по УИК"
   ]
  },
  {
   "cell_type": "code",
   "execution_count": 40,
   "metadata": {},
   "outputs": [],
   "source": [
    "def get_UIK_soup(link):\n",
    "    uik_req = requests.get(link)\n",
    "    uik_soup = BeautifulSoup(uik_req.text, 'lxml')\n",
    "    return uik_soup"
   ]
  },
  {
   "cell_type": "code",
   "execution_count": 41,
   "metadata": {},
   "outputs": [],
   "source": [
    "def get_table_soup(soup, count):\n",
    "    if (count in [2, 16, 20, 37, 47, 81]):\n",
    "        table = soup.findAll('table')[10].find('div').findAll('tr')\n",
    "    elif (count in [6, 11, 13, 30, 34, 45, 58, 65, 72, 76, 79]):\n",
    "        table = soup.find('div').find_all('tr') \n",
    "    elif (count in [36]):\n",
    "        table = soup.find_all('div')[11].find_all('tr')\n",
    "    elif (count in [42]):\n",
    "        table = []\n",
    "    elif (count in [82]):\n",
    "        table = soup.find_all('div')[1].find_all('tr')\n",
    "    else:\n",
    "        table = soup.findAll('table')[2].findAll('table')[5].find('tr').find('div').findAll('tr')\n",
    "    return table"
   ]
  },
  {
   "cell_type": "code",
   "execution_count": 42,
   "metadata": {},
   "outputs": [],
   "source": [
    "def get_UIK_names(table, count): \n",
    "    UIK_names = []\n",
    "    if (count != 42):\n",
    "        names_soup = table[0].findAll('nobr')\n",
    "        for name in names_soup:\n",
    "            UIK_names.append(name.text)\n",
    "    return UIK_names"
   ]
  },
  {
   "cell_type": "code",
   "execution_count": 43,
   "metadata": {},
   "outputs": [],
   "source": [
    "def get_UIK_statistics_soup(table):\n",
    "    uik_statistics_soup = []\n",
    "    for row in table[1:]:\n",
    "        uik_statistics_soup.append(row.findAll('nobr'))\n",
    "    return uik_statistics_soup\n",
    "\n",
    "def get_UIK_statistics(table, count):\n",
    "    UIK_statistics = []\n",
    "    if (count != 42):\n",
    "        uik_statistics_soup = get_UIK_statistics_soup(table)\n",
    "        for row in uik_statistics_soup:\n",
    "            statistics_row = []\n",
    "            for el in row:\n",
    "                statistics_row.append(el.text)\n",
    "            if (len(statistics_row) > 0):\n",
    "                UIK_statistics.append(statistics_row)\n",
    "    UIK_statistics_transpose = np.array(UIK_statistics).transpose()\n",
    "    return UIK_statistics_transpose"
   ]
  },
  {
   "cell_type": "markdown",
   "metadata": {},
   "source": [
    "### Формирование результирующей таблицы "
   ]
  },
  {
   "cell_type": "code",
   "execution_count": 51,
   "metadata": {},
   "outputs": [],
   "source": [
    "def get_UIK_row(reg_ind, tik_ind, uik_ind, UIK_names, UIK_statistics):\n",
    "    UIK_row = [regions_names[reg_ind]]\n",
    "    UIK_row.append(TIKs_names[reg_ind][tik_ind])\n",
    "    UIK_row.append(UIK_names[uik_ind])\n",
    "    for st_num in UIK_statistics[uik_ind]:\n",
    "        UIK_row.append(st_num)\n",
    "    return UIK_row"
   ]
  },
  {
   "cell_type": "code",
   "execution_count": 52,
   "metadata": {},
   "outputs": [],
   "source": [
    "def get_UIK_lines_group_by_TIK(reg_ind, tik_ind):\n",
    "    UIK_soup = get_UIK_soup(UIKs_links[reg_ind][tik_ind])\n",
    "    UIK_table_soup = get_table_soup(UIK_soup, reg_ind)\n",
    "    UIK_names = get_UIK_names(UIK_table_soup, reg_ind)\n",
    "    UIK_statistics = get_UIK_statistics(UIK_table_soup, reg_ind)\n",
    "    \n",
    "    UIK_lines_group_by_TIK = []\n",
    "    for uik_ind in range(len(UIK_names)):\n",
    "        UIK_row = get_UIK_row(reg_ind, tik_ind, uik_ind, UIK_names, UIK_statistics)\n",
    "        UIK_lines_group_by_TIK.append(UIK_row)\n",
    "    return UIK_lines_group_by_TIK"
   ]
  },
  {
   "cell_type": "code",
   "execution_count": 124,
   "metadata": {},
   "outputs": [],
   "source": [
    "def get_UIK_lines_group_by_region(reg_ind):\n",
    "    UIK_lines_group_by_region = []\n",
    "    for tik_ind in range(len(TIKs_names[reg_ind])):\n",
    "        TIK_rows = get_UIK_lines_group_by_TIK(reg_ind, tik_ind)\n",
    "        for UIK_line in TIK_rows:\n",
    "            UIK_lines_group_by_region.append(UIK_line)\n",
    "    return UIK_lines_group_by_region"
   ]
  },
  {
   "cell_type": "code",
   "execution_count": 147,
   "metadata": {},
   "outputs": [],
   "source": [
    "def get_all_UIK_lines():\n",
    "    all_UIK_lines = []\n",
    "    for reg_ind in range(len(regions_names)):\n",
    "        regions_rows = get_UIK_lines_group_by_region(reg_ind)\n",
    "        for UIK_line in regions_rows:\n",
    "            all_UIK_lines.append(UIK_line)\n",
    "    return all_UIK_lines"
   ]
  },
  {
   "cell_type": "code",
   "execution_count": 148,
   "metadata": {},
   "outputs": [],
   "source": [
    "UIKs_table = get_all_UIK_lines()"
   ]
  },
  {
   "cell_type": "markdown",
   "metadata": {},
   "source": [
    "### Запись таблицы в csv-файл"
   ]
  },
  {
   "cell_type": "code",
   "execution_count": 150,
   "metadata": {},
   "outputs": [],
   "source": [
    "def write_table_to_csv_file(file_name, table):\n",
    "    df = pd.DataFrame(data = table, columns = headers)\n",
    "    df.to_csv(file_name, index = False)"
   ]
  },
  {
   "cell_type": "code",
   "execution_count": 151,
   "metadata": {},
   "outputs": [],
   "source": [
    "data_file = 'data.csv'"
   ]
  },
  {
   "cell_type": "code",
   "execution_count": 152,
   "metadata": {},
   "outputs": [],
   "source": [
    "write_table_to_csv_file(data_file, UIKs_table)"
   ]
  },
  {
   "cell_type": "code",
   "execution_count": 153,
   "metadata": {},
   "outputs": [
    {
     "data": {
      "text/html": [
       "<div>\n",
       "<style scoped>\n",
       "    .dataframe tbody tr th:only-of-type {\n",
       "        vertical-align: middle;\n",
       "    }\n",
       "\n",
       "    .dataframe tbody tr th {\n",
       "        vertical-align: top;\n",
       "    }\n",
       "\n",
       "    .dataframe thead th {\n",
       "        text-align: right;\n",
       "    }\n",
       "</style>\n",
       "<table border=\"1\" class=\"dataframe\">\n",
       "  <thead>\n",
       "    <tr style=\"text-align: right;\">\n",
       "      <th></th>\n",
       "      <th>Регион</th>\n",
       "      <th>ТИК</th>\n",
       "      <th>УИК</th>\n",
       "      <th>Число избирателей, включенных в список избирателей</th>\n",
       "      <th>Число избирательных бюллетеней, полученных участковой избирательной комиссией</th>\n",
       "      <th>Число избирательных бюллетеней, выданных избирателям, проголосовавшим досрочно</th>\n",
       "      <th>Число избирательных бюллетеней, выданных в помещении для голосования в день голосования</th>\n",
       "      <th>Число избирательных бюллетеней, выданных вне помещения для голосования в день голосования</th>\n",
       "      <th>Число погашенных избирательных бюллетеней</th>\n",
       "      <th>Число избирательных бюллетеней в переносных ящиках для голосования</th>\n",
       "      <th>...</th>\n",
       "      <th>Число утраченных избирательных бюллетеней</th>\n",
       "      <th>Число избирательных бюллетеней, не учтенных при получении</th>\n",
       "      <th>Бабурин Сергей Николаевич</th>\n",
       "      <th>Грудинин Павел Николаевич</th>\n",
       "      <th>Жириновский Владимир Вольфович</th>\n",
       "      <th>Путин Владимир Владимирович</th>\n",
       "      <th>Собчак Ксения Анатольевна</th>\n",
       "      <th>Сурайкин Максим Александрович</th>\n",
       "      <th>Титов Борис Юрьевич</th>\n",
       "      <th>Явлинский Григорий Алексеевич</th>\n",
       "    </tr>\n",
       "  </thead>\n",
       "  <tbody>\n",
       "    <tr>\n",
       "      <th>0</th>\n",
       "      <td>Республика Адыгея (Адыгея)</td>\n",
       "      <td>Адыгейская</td>\n",
       "      <td>УИК №1</td>\n",
       "      <td>2256</td>\n",
       "      <td>2181</td>\n",
       "      <td>0</td>\n",
       "      <td>2107</td>\n",
       "      <td>62</td>\n",
       "      <td>12</td>\n",
       "      <td>62</td>\n",
       "      <td>...</td>\n",
       "      <td>0</td>\n",
       "      <td>0</td>\n",
       "      <td>0</td>\n",
       "      <td>137</td>\n",
       "      <td>32</td>\n",
       "      <td>1977</td>\n",
       "      <td>14</td>\n",
       "      <td>0</td>\n",
       "      <td>1</td>\n",
       "      <td>5</td>\n",
       "    </tr>\n",
       "    <tr>\n",
       "      <th>1</th>\n",
       "      <td>Республика Адыгея (Адыгея)</td>\n",
       "      <td>Адыгейская</td>\n",
       "      <td>УИК №2</td>\n",
       "      <td>2700</td>\n",
       "      <td>2633</td>\n",
       "      <td>0</td>\n",
       "      <td>2575</td>\n",
       "      <td>41</td>\n",
       "      <td>17</td>\n",
       "      <td>41</td>\n",
       "      <td>...</td>\n",
       "      <td>0</td>\n",
       "      <td>0</td>\n",
       "      <td>15</td>\n",
       "      <td>86</td>\n",
       "      <td>65</td>\n",
       "      <td>2389</td>\n",
       "      <td>13</td>\n",
       "      <td>5</td>\n",
       "      <td>6</td>\n",
       "      <td>15</td>\n",
       "    </tr>\n",
       "    <tr>\n",
       "      <th>2</th>\n",
       "      <td>Республика Адыгея (Адыгея)</td>\n",
       "      <td>Адыгейская</td>\n",
       "      <td>УИК №3</td>\n",
       "      <td>2858</td>\n",
       "      <td>2752</td>\n",
       "      <td>0</td>\n",
       "      <td>2664</td>\n",
       "      <td>75</td>\n",
       "      <td>13</td>\n",
       "      <td>75</td>\n",
       "      <td>...</td>\n",
       "      <td>0</td>\n",
       "      <td>0</td>\n",
       "      <td>1</td>\n",
       "      <td>62</td>\n",
       "      <td>13</td>\n",
       "      <td>2645</td>\n",
       "      <td>6</td>\n",
       "      <td>3</td>\n",
       "      <td>4</td>\n",
       "      <td>0</td>\n",
       "    </tr>\n",
       "    <tr>\n",
       "      <th>3</th>\n",
       "      <td>Республика Адыгея (Адыгея)</td>\n",
       "      <td>Адыгейская</td>\n",
       "      <td>УИК №4</td>\n",
       "      <td>2066</td>\n",
       "      <td>2034</td>\n",
       "      <td>0</td>\n",
       "      <td>1857</td>\n",
       "      <td>142</td>\n",
       "      <td>35</td>\n",
       "      <td>142</td>\n",
       "      <td>...</td>\n",
       "      <td>0</td>\n",
       "      <td>0</td>\n",
       "      <td>5</td>\n",
       "      <td>288</td>\n",
       "      <td>12</td>\n",
       "      <td>1642</td>\n",
       "      <td>21</td>\n",
       "      <td>6</td>\n",
       "      <td>2</td>\n",
       "      <td>2</td>\n",
       "    </tr>\n",
       "    <tr>\n",
       "      <th>4</th>\n",
       "      <td>Республика Адыгея (Адыгея)</td>\n",
       "      <td>Адыгейская</td>\n",
       "      <td>УИК №5</td>\n",
       "      <td>700</td>\n",
       "      <td>714</td>\n",
       "      <td>0</td>\n",
       "      <td>676</td>\n",
       "      <td>11</td>\n",
       "      <td>27</td>\n",
       "      <td>11</td>\n",
       "      <td>...</td>\n",
       "      <td>0</td>\n",
       "      <td>0</td>\n",
       "      <td>2</td>\n",
       "      <td>44</td>\n",
       "      <td>6</td>\n",
       "      <td>624</td>\n",
       "      <td>6</td>\n",
       "      <td>0</td>\n",
       "      <td>0</td>\n",
       "      <td>2</td>\n",
       "    </tr>\n",
       "    <tr>\n",
       "      <th>...</th>\n",
       "      <td>...</td>\n",
       "      <td>...</td>\n",
       "      <td>...</td>\n",
       "      <td>...</td>\n",
       "      <td>...</td>\n",
       "      <td>...</td>\n",
       "      <td>...</td>\n",
       "      <td>...</td>\n",
       "      <td>...</td>\n",
       "      <td>...</td>\n",
       "      <td>...</td>\n",
       "      <td>...</td>\n",
       "      <td>...</td>\n",
       "      <td>...</td>\n",
       "      <td>...</td>\n",
       "      <td>...</td>\n",
       "      <td>...</td>\n",
       "      <td>...</td>\n",
       "      <td>...</td>\n",
       "      <td>...</td>\n",
       "      <td>...</td>\n",
       "    </tr>\n",
       "    <tr>\n",
       "      <th>97115</th>\n",
       "      <td>Территория за пределами РФ</td>\n",
       "      <td>Территория за пределами РФ</td>\n",
       "      <td>УИК №8433</td>\n",
       "      <td>436</td>\n",
       "      <td>2500</td>\n",
       "      <td>0</td>\n",
       "      <td>431</td>\n",
       "      <td>5</td>\n",
       "      <td>2064</td>\n",
       "      <td>5</td>\n",
       "      <td>...</td>\n",
       "      <td>0</td>\n",
       "      <td>0</td>\n",
       "      <td>3</td>\n",
       "      <td>32</td>\n",
       "      <td>13</td>\n",
       "      <td>371</td>\n",
       "      <td>8</td>\n",
       "      <td>3</td>\n",
       "      <td>3</td>\n",
       "      <td>3</td>\n",
       "    </tr>\n",
       "    <tr>\n",
       "      <th>97116</th>\n",
       "      <td>Территория за пределами РФ</td>\n",
       "      <td>Территория за пределами РФ</td>\n",
       "      <td>УИК №8434</td>\n",
       "      <td>1141</td>\n",
       "      <td>3000</td>\n",
       "      <td>0</td>\n",
       "      <td>1136</td>\n",
       "      <td>5</td>\n",
       "      <td>1859</td>\n",
       "      <td>5</td>\n",
       "      <td>...</td>\n",
       "      <td>0</td>\n",
       "      <td>0</td>\n",
       "      <td>1</td>\n",
       "      <td>10</td>\n",
       "      <td>5</td>\n",
       "      <td>1072</td>\n",
       "      <td>8</td>\n",
       "      <td>1</td>\n",
       "      <td>0</td>\n",
       "      <td>0</td>\n",
       "    </tr>\n",
       "    <tr>\n",
       "      <th>97117</th>\n",
       "      <td>Территория за пределами РФ</td>\n",
       "      <td>Территория за пределами РФ</td>\n",
       "      <td>УИК №8436</td>\n",
       "      <td>78</td>\n",
       "      <td>1507</td>\n",
       "      <td>0</td>\n",
       "      <td>78</td>\n",
       "      <td>0</td>\n",
       "      <td>1429</td>\n",
       "      <td>0</td>\n",
       "      <td>...</td>\n",
       "      <td>0</td>\n",
       "      <td>0</td>\n",
       "      <td>0</td>\n",
       "      <td>17</td>\n",
       "      <td>3</td>\n",
       "      <td>43</td>\n",
       "      <td>10</td>\n",
       "      <td>0</td>\n",
       "      <td>3</td>\n",
       "      <td>2</td>\n",
       "    </tr>\n",
       "    <tr>\n",
       "      <th>97118</th>\n",
       "      <td>Территория за пределами РФ</td>\n",
       "      <td>Территория за пределами РФ</td>\n",
       "      <td>УИК №8437</td>\n",
       "      <td>848</td>\n",
       "      <td>2500</td>\n",
       "      <td>0</td>\n",
       "      <td>743</td>\n",
       "      <td>105</td>\n",
       "      <td>1652</td>\n",
       "      <td>105</td>\n",
       "      <td>...</td>\n",
       "      <td>0</td>\n",
       "      <td>0</td>\n",
       "      <td>4</td>\n",
       "      <td>4</td>\n",
       "      <td>0</td>\n",
       "      <td>802</td>\n",
       "      <td>1</td>\n",
       "      <td>1</td>\n",
       "      <td>0</td>\n",
       "      <td>0</td>\n",
       "    </tr>\n",
       "    <tr>\n",
       "      <th>97119</th>\n",
       "      <td>Территория за пределами РФ</td>\n",
       "      <td>Территория за пределами РФ</td>\n",
       "      <td>УИК №8443</td>\n",
       "      <td>2004</td>\n",
       "      <td>4000</td>\n",
       "      <td>0</td>\n",
       "      <td>1978</td>\n",
       "      <td>26</td>\n",
       "      <td>1995</td>\n",
       "      <td>26</td>\n",
       "      <td>...</td>\n",
       "      <td>1</td>\n",
       "      <td>0</td>\n",
       "      <td>23</td>\n",
       "      <td>36</td>\n",
       "      <td>21</td>\n",
       "      <td>1835</td>\n",
       "      <td>8</td>\n",
       "      <td>5</td>\n",
       "      <td>3</td>\n",
       "      <td>3</td>\n",
       "    </tr>\n",
       "  </tbody>\n",
       "</table>\n",
       "<p>97120 rows × 23 columns</p>\n",
       "</div>"
      ],
      "text/plain": [
       "                           Регион                         ТИК        УИК  \\\n",
       "0      Республика Адыгея (Адыгея)                  Адыгейская     УИК №1   \n",
       "1      Республика Адыгея (Адыгея)                  Адыгейская     УИК №2   \n",
       "2      Республика Адыгея (Адыгея)                  Адыгейская     УИК №3   \n",
       "3      Республика Адыгея (Адыгея)                  Адыгейская     УИК №4   \n",
       "4      Республика Адыгея (Адыгея)                  Адыгейская     УИК №5   \n",
       "...                           ...                         ...        ...   \n",
       "97115  Территория за пределами РФ  Территория за пределами РФ  УИК №8433   \n",
       "97116  Территория за пределами РФ  Территория за пределами РФ  УИК №8434   \n",
       "97117  Территория за пределами РФ  Территория за пределами РФ  УИК №8436   \n",
       "97118  Территория за пределами РФ  Территория за пределами РФ  УИК №8437   \n",
       "97119  Территория за пределами РФ  Территория за пределами РФ  УИК №8443   \n",
       "\n",
       "       Число избирателей, включенных в список избирателей   \\\n",
       "0                                                   2256     \n",
       "1                                                   2700     \n",
       "2                                                   2858     \n",
       "3                                                   2066     \n",
       "4                                                    700     \n",
       "...                                                  ...     \n",
       "97115                                                436     \n",
       "97116                                               1141     \n",
       "97117                                                 78     \n",
       "97118                                                848     \n",
       "97119                                               2004     \n",
       "\n",
       "       Число избирательных бюллетеней, полученных участковой избирательной комиссией  \\\n",
       "0                                                   2181                               \n",
       "1                                                   2633                               \n",
       "2                                                   2752                               \n",
       "3                                                   2034                               \n",
       "4                                                    714                               \n",
       "...                                                  ...                               \n",
       "97115                                               2500                               \n",
       "97116                                               3000                               \n",
       "97117                                               1507                               \n",
       "97118                                               2500                               \n",
       "97119                                               4000                               \n",
       "\n",
       "       Число избирательных бюллетеней, выданных избирателям, проголосовавшим досрочно  \\\n",
       "0                                                      0                                \n",
       "1                                                      0                                \n",
       "2                                                      0                                \n",
       "3                                                      0                                \n",
       "4                                                      0                                \n",
       "...                                                  ...                                \n",
       "97115                                                  0                                \n",
       "97116                                                  0                                \n",
       "97117                                                  0                                \n",
       "97118                                                  0                                \n",
       "97119                                                  0                                \n",
       "\n",
       "       Число избирательных бюллетеней, выданных в помещении для голосования в день голосования  \\\n",
       "0                                                   2107                                         \n",
       "1                                                   2575                                         \n",
       "2                                                   2664                                         \n",
       "3                                                   1857                                         \n",
       "4                                                    676                                         \n",
       "...                                                  ...                                         \n",
       "97115                                                431                                         \n",
       "97116                                               1136                                         \n",
       "97117                                                 78                                         \n",
       "97118                                                743                                         \n",
       "97119                                               1978                                         \n",
       "\n",
       "       Число избирательных бюллетеней, выданных вне помещения для голосования в день голосования  \\\n",
       "0                                                     62                                           \n",
       "1                                                     41                                           \n",
       "2                                                     75                                           \n",
       "3                                                    142                                           \n",
       "4                                                     11                                           \n",
       "...                                                  ...                                           \n",
       "97115                                                  5                                           \n",
       "97116                                                  5                                           \n",
       "97117                                                  0                                           \n",
       "97118                                                105                                           \n",
       "97119                                                 26                                           \n",
       "\n",
       "       Число погашенных избирательных бюллетеней  \\\n",
       "0                                             12   \n",
       "1                                             17   \n",
       "2                                             13   \n",
       "3                                             35   \n",
       "4                                             27   \n",
       "...                                          ...   \n",
       "97115                                       2064   \n",
       "97116                                       1859   \n",
       "97117                                       1429   \n",
       "97118                                       1652   \n",
       "97119                                       1995   \n",
       "\n",
       "       Число избирательных бюллетеней в переносных ящиках для голосования  \\\n",
       "0                                                     62                    \n",
       "1                                                     41                    \n",
       "2                                                     75                    \n",
       "3                                                    142                    \n",
       "4                                                     11                    \n",
       "...                                                  ...                    \n",
       "97115                                                  5                    \n",
       "97116                                                  5                    \n",
       "97117                                                  0                    \n",
       "97118                                                105                    \n",
       "97119                                                 26                    \n",
       "\n",
       "       ...  Число утраченных избирательных бюллетеней  \\\n",
       "0      ...                                          0   \n",
       "1      ...                                          0   \n",
       "2      ...                                          0   \n",
       "3      ...                                          0   \n",
       "4      ...                                          0   \n",
       "...    ...                                        ...   \n",
       "97115  ...                                          0   \n",
       "97116  ...                                          0   \n",
       "97117  ...                                          0   \n",
       "97118  ...                                          0   \n",
       "97119  ...                                          1   \n",
       "\n",
       "       Число избирательных бюллетеней, не учтенных при получении   \\\n",
       "0                                                      0            \n",
       "1                                                      0            \n",
       "2                                                      0            \n",
       "3                                                      0            \n",
       "4                                                      0            \n",
       "...                                                  ...            \n",
       "97115                                                  0            \n",
       "97116                                                  0            \n",
       "97117                                                  0            \n",
       "97118                                                  0            \n",
       "97119                                                  0            \n",
       "\n",
       "       Бабурин Сергей Николаевич  Грудинин Павел Николаевич  \\\n",
       "0                              0                        137   \n",
       "1                             15                         86   \n",
       "2                              1                         62   \n",
       "3                              5                        288   \n",
       "4                              2                         44   \n",
       "...                          ...                        ...   \n",
       "97115                          3                         32   \n",
       "97116                          1                         10   \n",
       "97117                          0                         17   \n",
       "97118                          4                          4   \n",
       "97119                         23                         36   \n",
       "\n",
       "       Жириновский Владимир Вольфович  Путин Владимир Владимирович  \\\n",
       "0                                  32                         1977   \n",
       "1                                  65                         2389   \n",
       "2                                  13                         2645   \n",
       "3                                  12                         1642   \n",
       "4                                   6                          624   \n",
       "...                               ...                          ...   \n",
       "97115                              13                          371   \n",
       "97116                               5                         1072   \n",
       "97117                               3                           43   \n",
       "97118                               0                          802   \n",
       "97119                              21                         1835   \n",
       "\n",
       "       Собчак Ксения Анатольевна  Сурайкин Максим Александрович  \\\n",
       "0                             14                              0   \n",
       "1                             13                              5   \n",
       "2                              6                              3   \n",
       "3                             21                              6   \n",
       "4                              6                              0   \n",
       "...                          ...                            ...   \n",
       "97115                          8                              3   \n",
       "97116                          8                              1   \n",
       "97117                         10                              0   \n",
       "97118                          1                              1   \n",
       "97119                          8                              5   \n",
       "\n",
       "       Титов Борис Юрьевич  Явлинский Григорий Алексеевич  \n",
       "0                        1                              5  \n",
       "1                        6                             15  \n",
       "2                        4                              0  \n",
       "3                        2                              2  \n",
       "4                        0                              2  \n",
       "...                    ...                            ...  \n",
       "97115                    3                              3  \n",
       "97116                    0                              0  \n",
       "97117                    3                              2  \n",
       "97118                    0                              0  \n",
       "97119                    3                              3  \n",
       "\n",
       "[97120 rows x 23 columns]"
      ]
     },
     "execution_count": 153,
     "metadata": {},
     "output_type": "execute_result"
    }
   ],
   "source": [
    "pd.read_csv(data_file)"
   ]
  }
 ],
 "metadata": {
  "kernelspec": {
   "display_name": "Python 3",
   "language": "python",
   "name": "python3"
  },
  "language_info": {
   "codemirror_mode": {
    "name": "ipython",
    "version": 3
   },
   "file_extension": ".py",
   "mimetype": "text/x-python",
   "name": "python",
   "nbconvert_exporter": "python",
   "pygments_lexer": "ipython3",
   "version": "3.8.2"
  }
 },
 "nbformat": 4,
 "nbformat_minor": 4
}
