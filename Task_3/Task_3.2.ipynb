{
 "cells": [
  {
   "cell_type": "markdown",
   "metadata": {},
   "source": [
    "## Задача 3\n",
    "### Часть 2\n",
    "\n",
    "Нужно, используя Spark: \n",
    "1. найти явку (%) по всем регионам, результат отсортировать по убыванию \n",
    "2. выбрать любимого кандидата и найти тот избиратльный участок, на котором он получил наибольший результат (учитывать участки на которых проголосовало больше 300 человек) \n",
    "3. найти регион, где разница между ТИК с наибольшей явкой и наименьшей максимальна \n",
    "4. посчитать дисперсию по явке для каждого региона (учитывать УИК) \n",
    "5. для каждого кандидата посчитать таблицу: результат (%, округленный до целого) \n",
    "6. количество УИК, на которых кандидат получил данный результат\n",
    "\n",
    "Результаты принимаются в виде Jupyter Notebook, Spark Notebook или исходных файлов на Scala."
   ]
  },
  {
   "cell_type": "code",
   "execution_count": 150,
   "metadata": {},
   "outputs": [],
   "source": [
    "from pyspark.sql import SparkSession\n",
    "import pyspark.sql.functions as F\n",
    "from functools import reduce\n",
    "from operator import add\n",
    "from pyspark.sql.functions import col\n",
    "from pyspark.sql.functions import lit"
   ]
  },
  {
   "cell_type": "markdown",
   "metadata": {},
   "source": [
    "### Чтение данных"
   ]
  },
  {
   "cell_type": "code",
   "execution_count": 2,
   "metadata": {},
   "outputs": [],
   "source": [
    "data_file = 'data.csv'"
   ]
  },
  {
   "cell_type": "code",
   "execution_count": 3,
   "metadata": {},
   "outputs": [],
   "source": [
    "spark = SparkSession.builder.appName(\"PySpark\").getOrCreate()"
   ]
  },
  {
   "cell_type": "code",
   "execution_count": 4,
   "metadata": {},
   "outputs": [],
   "source": [
    "df = spark.read.csv(data_file, inferSchema=True, header=True).toDF( \\\n",
    "    'Регион','ТИК','УИК', 'Избиратели', 'Бюллетени', \\\n",
    "    'Бюллетени досрочно', 'Бюллетени внутри', 'Бюллетени снаружи', 'Бюллетени погашенные', \\\n",
    "    'В переносных ящиках', 'В стационарных ящиках', \\\n",
    "    'Бюллетени недействительные', 'Бюллетени действительные', 'Бюллетени утраченные', 'Бюллетени неучтенные', \\\n",
    "    'Бабурин', 'Грудинин', 'Жириновский', 'Путин', \\\n",
    "    'Собчак', 'Сурайкин', 'Титов', 'Явлинский')"
   ]
  },
  {
   "cell_type": "markdown",
   "metadata": {},
   "source": [
    "### 1. Явка (%) по всем регионам, отсортированная по убыванию"
   ]
  },
  {
   "cell_type": "code",
   "execution_count": 18,
   "metadata": {},
   "outputs": [],
   "source": [
    "df_presence = df.groupBy('Регион') \\\n",
    "    .agg(F.sum('Избиратели').alias('Кол-во избирателей'), \\\n",
    "        F.sum('Бюллетени досрочно').alias('Кол-во бюллетеней досрочно'), \\\n",
    "        F.sum('Бюллетени внутри').alias('Кол-во бюллетеней внутри'), \\\n",
    "        F.sum('Бюллетени снаружи').alias('Кол-во бюллетеней снаружи')) \\\n",
    "    .sort('Кол-во избирателей', ascending=False)"
   ]
  },
  {
   "cell_type": "code",
   "execution_count": 19,
   "metadata": {},
   "outputs": [
    {
     "name": "stdout",
     "output_type": "stream",
     "text": [
      "+--------------------+------------------+--------------------------+------------------------+-------------------------+\n",
      "|              Регион|Кол-во избирателей|Кол-во бюллетеней досрочно|Кол-во бюллетеней внутри|Кол-во бюллетеней снаружи|\n",
      "+--------------------+------------------+--------------------------+------------------------+-------------------------+\n",
      "|        город Москва|           7543682|                         0|                 4348576|                   172779|\n",
      "|  Московская область|           5829578|                         0|                 3540550|                   167006|\n",
      "|  Краснодарский край|           4049575|                       229|                 2825178|                   327900|\n",
      "|город Санкт-Петер...|           3632398|                      1795|                 2248088|                    70251|\n",
      "|Свердловская область|           3345221|                      3210|                 2003456|                    79001|\n",
      "|  Ростовская область|           3210796|                         0|                 1920477|                   159301|\n",
      "|Республика Башкор...|           3045698|                         0|                 2186576|                   111258|\n",
      "|Республика Татарс...|           2919482|                         0|                 2155833|                   104476|\n",
      "| Челябинская область|           2632596|                         0|                 1641894|                   106530|\n",
      "|Нижегородская обл...|           2618865|                       403|                 1595437|                   132168|\n",
      "+--------------------+------------------+--------------------------+------------------------+-------------------------+\n",
      "only showing top 10 rows\n",
      "\n"
     ]
    }
   ],
   "source": [
    "df_presence.show(10)"
   ]
  },
  {
   "cell_type": "code",
   "execution_count": 20,
   "metadata": {},
   "outputs": [],
   "source": [
    "all_votes = ['Кол-во бюллетеней досрочно', 'Кол-во бюллетеней внутри', 'Кол-во бюллетеней снаружи']\n",
    "\n",
    "df_presence = df_presence \\\n",
    "    .withColumn('Кол-во голосов', reduce(add, [col(votes) for votes in all_votes])) \\\n",
    "    .select('Регион', 'Кол-во избирателей', 'Кол-во голосов') \\\n",
    "    .sort('Кол-во избирателей', ascending=False)"
   ]
  },
  {
   "cell_type": "code",
   "execution_count": 21,
   "metadata": {},
   "outputs": [
    {
     "name": "stdout",
     "output_type": "stream",
     "text": [
      "+--------------------+------------------+--------------+\n",
      "|              Регион|Кол-во избирателей|Кол-во голосов|\n",
      "+--------------------+------------------+--------------+\n",
      "|        город Москва|           7543682|       4521355|\n",
      "|  Московская область|           5829578|       3707556|\n",
      "|  Краснодарский край|           4049575|       3153307|\n",
      "|город Санкт-Петер...|           3632398|       2320134|\n",
      "|Свердловская область|           3345221|       2085667|\n",
      "|  Ростовская область|           3210796|       2079778|\n",
      "|Республика Башкор...|           3045698|       2297834|\n",
      "|Республика Татарс...|           2919482|       2260309|\n",
      "| Челябинская область|           2632596|       1748424|\n",
      "|Нижегородская обл...|           2618865|       1728008|\n",
      "+--------------------+------------------+--------------+\n",
      "only showing top 10 rows\n",
      "\n"
     ]
    }
   ],
   "source": [
    "df_presence.show(10)"
   ]
  },
  {
   "cell_type": "code",
   "execution_count": 22,
   "metadata": {},
   "outputs": [],
   "source": [
    "df_presence = df_presence \\\n",
    "    .withColumn('Явка (%)', 100 * col('Кол-во голосов') / col('Кол-во избирателей')) \\\n",
    "    .select('Регион', 'Явка (%)') \\\n",
    "    .sort('Явка (%)', ascending=False)"
   ]
  },
  {
   "cell_type": "code",
   "execution_count": 23,
   "metadata": {},
   "outputs": [
    {
     "name": "stdout",
     "output_type": "stream",
     "text": [
      "+--------------------+-----------------+\n",
      "|              Регион|         Явка (%)|\n",
      "+--------------------+-----------------+\n",
      "|Территория за пре...|98.06986984380843|\n",
      "|     Республика Тыва|93.66369316170004|\n",
      "|Ямало-Ненецкий ав...|91.90125747324196|\n",
      "|Кабардино-Балкарс...| 91.8015786356213|\n",
      "|Чеченская Республика|91.54001705101919|\n",
      "|Республика Северн...|89.98810071492768|\n",
      "| Республика Дагестан|87.47795414462081|\n",
      "|Карачаево-Черкесс...|87.40544668203033|\n",
      "| Кемеровская область|83.22733516003962|\n",
      "|Чукотский автоном...| 82.2813869592439|\n",
      "+--------------------+-----------------+\n",
      "only showing top 10 rows\n",
      "\n"
     ]
    }
   ],
   "source": [
    "df_presence.show(10)"
   ]
  },
  {
   "cell_type": "markdown",
   "metadata": {},
   "source": [
    "### 2. Избирательный участок, на котором выбранный кандидат получил наибольший результат, учитывая только те участки, на которых более 300 проголосовавших"
   ]
  },
  {
   "cell_type": "code",
   "execution_count": 94,
   "metadata": {},
   "outputs": [],
   "source": [
    "candidates = ['Бабурин', 'Грудинин', 'Жириновский', 'Путин', 'Собчак', 'Сурайкин', 'Титов', 'Явлинский']"
   ]
  },
  {
   "cell_type": "code",
   "execution_count": 95,
   "metadata": {},
   "outputs": [],
   "source": [
    "def get_max_for_candidate(candidate):\n",
    "    n = 300\n",
    "    result = df.filter(col(candidate) > n) \\\n",
    "        .select('Регион', 'ТИК', 'УИК', candidate) \\\n",
    "        .groupBy('Регион', 'ТИК', 'УИК')\\\n",
    "        .agg(F.max(candidate).alias('Кол-во голосов')) \\\n",
    "        .sort('Кол-во голосов',  ascending=False)\n",
    "    return result.show(1)"
   ]
  },
  {
   "cell_type": "code",
   "execution_count": 100,
   "metadata": {},
   "outputs": [
    {
     "name": "stdout",
     "output_type": "stream",
     "text": [
      "+-----------------+-------------------+---------+--------------+\n",
      "|           Регион|                ТИК|      УИК|Кол-во голосов|\n",
      "+-----------------+-------------------+---------+--------------+\n",
      "|Тюменская область|Тюмень, Калининская|УИК №2081|           421|\n",
      "+-----------------+-------------------+---------+--------------+\n",
      "only showing top 1 row\n",
      "\n"
     ]
    }
   ],
   "source": [
    "get_max_for_candidate(candidates[2])"
   ]
  },
  {
   "cell_type": "markdown",
   "metadata": {},
   "source": [
    "### 3. Регион, где разница между ТИК с наибольшей явкой и наименьшей максимальна "
   ]
  },
  {
   "cell_type": "code",
   "execution_count": 132,
   "metadata": {},
   "outputs": [],
   "source": [
    "df_tiks = df.groupBy('Регион', 'ТИК') \\\n",
    "    .agg(F.sum('Избиратели').alias('Кол-во избирателей'), \\\n",
    "         F.sum('Бюллетени досрочно').alias('Кол-во бюллетеней досрочно'), \\\n",
    "         F.sum('Бюллетени внутри').alias('Кол-во бюллетеней внутри'), \\\n",
    "         F.sum('Бюллетени снаружи').alias('Кол-во бюллетеней снаружи')) \\\n",
    "    .withColumn('Кол-во голосов', reduce(add, [col(votes) for votes in all_votes])) \\\n",
    "    .withColumn('Явка (%)', 100 * col('Кол-во голосов') / col('Кол-во избирателей')) \\\n",
    "    .select('Регион', 'ТИК', 'Явка (%)') \\\n",
    "    .sort('Регион')"
   ]
  },
  {
   "cell_type": "code",
   "execution_count": 133,
   "metadata": {},
   "outputs": [
    {
     "name": "stdout",
     "output_type": "stream",
     "text": [
      "+--------------+--------------------+-----------------+\n",
      "|        Регион|                 ТИК|         Явка (%)|\n",
      "+--------------+--------------------+-----------------+\n",
      "|Алтайский край|        Кытмановская|73.75977819586097|\n",
      "|Алтайский край|        Ребрихинская|66.21323934354004|\n",
      "|Алтайский край|     Усть-Калманская|63.29329585143539|\n",
      "|Алтайский край|          Солтонская|69.21678533555522|\n",
      "|Алтайский край|     Быстроистокская|65.77316810344827|\n",
      "|Алтайский край|        Михайловская|61.26126126126126|\n",
      "|Алтайский край|          Курьинская|67.64493625210488|\n",
      "|Алтайский край|         Шипуновская|65.33391153512576|\n",
      "|Алтайский край|       Третьяковская|67.97066014669926|\n",
      "|Алтайский край|Новоалтайская гор...|64.66214928166646|\n",
      "+--------------+--------------------+-----------------+\n",
      "only showing top 10 rows\n",
      "\n"
     ]
    }
   ],
   "source": [
    "df_tiks.show(10)"
   ]
  },
  {
   "cell_type": "code",
   "execution_count": 134,
   "metadata": {},
   "outputs": [],
   "source": [
    "df_tiks = df_tiks.groupBy('Регион') \\\n",
    "    .agg((F.max('Явка (%)') - F.min('Явка (%)')).alias('Разница')) \\\n",
    "    .select('Регион', 'Разница') \\\n",
    "    .sort('Разница', ascending=False)"
   ]
  },
  {
   "cell_type": "code",
   "execution_count": 136,
   "metadata": {},
   "outputs": [
    {
     "name": "stdout",
     "output_type": "stream",
     "text": [
      "+--------------------+----------------+\n",
      "|              Регион|         Разница|\n",
      "+--------------------+----------------+\n",
      "|Архангельская обл...|49.8591648406849|\n",
      "+--------------------+----------------+\n",
      "only showing top 1 row\n",
      "\n"
     ]
    }
   ],
   "source": [
    "df_tiks.show(1)"
   ]
  },
  {
   "cell_type": "markdown",
   "metadata": {},
   "source": [
    "### 4. Дисперсия по явке для каждого региона (учитывая УИК) "
   ]
  },
  {
   "cell_type": "code",
   "execution_count": 141,
   "metadata": {},
   "outputs": [],
   "source": [
    "df_disp = df.groupBy('Регион', 'ТИК', 'УИК') \\\n",
    "    .agg(F.sum('Избиратели').alias('Кол-во избирателей'), \\\n",
    "         F.sum('Бюллетени досрочно').alias('Кол-во бюллетеней досрочно'), \\\n",
    "         F.sum('Бюллетени внутри').alias('Кол-во бюллетеней внутри'), \\\n",
    "         F.sum('Бюллетени снаружи').alias('Кол-во бюллетеней снаружи')) \\\n",
    "    .withColumn('Кол-во голосов', reduce(add, [col(votes) for votes in all_votes])) \\\n",
    "    .withColumn('Явка (%)', 100 * col('Кол-во голосов') / col('Кол-во избирателей')) \\\n",
    "    .select('Регион', 'Явка (%)') \\\n",
    "    .groupBy('Регион') \\\n",
    "    .agg(F.stddev('Явка (%)').alias('Дисперсия')) \\\n",
    "    .sort('Дисперсия', ascending=False)"
   ]
  },
  {
   "cell_type": "code",
   "execution_count": 142,
   "metadata": {},
   "outputs": [
    {
     "name": "stdout",
     "output_type": "stream",
     "text": [
      "+--------------------+------------------+\n",
      "|              Регион|         Дисперсия|\n",
      "+--------------------+------------------+\n",
      "| Сахалинская область|  20.1817713258144|\n",
      "|     Камчатский край|16.861471602822412|\n",
      "|  Мурманская область|16.734301006169574|\n",
      "|     Приморский край|16.641672216989203|\n",
      "|Республика Адыгея...|16.330124345063627|\n",
      "|   Самарская область| 15.60463973003109|\n",
      "| Саратовская область|15.419177745102223|\n",
      "| Республика Калмыкия| 15.34992596054361|\n",
      "| Воронежская область|14.969001494440173|\n",
      "| Магаданская область|14.380287651040703|\n",
      "+--------------------+------------------+\n",
      "only showing top 10 rows\n",
      "\n"
     ]
    }
   ],
   "source": [
    "df_disp.show(10)"
   ]
  },
  {
   "cell_type": "markdown",
   "metadata": {},
   "source": [
    "### 5. Таблица для каждого кандидата: результат (%, округленный до целого) "
   ]
  },
  {
   "cell_type": "code",
   "execution_count": 264,
   "metadata": {},
   "outputs": [],
   "source": [
    "df_region = df.groupBy('Регион') \\\n",
    "    .agg(F.sum(col(candidates[0])).alias(candidates[0]), \\\n",
    "         F.sum(col(candidates[1])).alias(candidates[1]), \\\n",
    "         F.sum(col(candidates[2])).alias(candidates[2]), \\\n",
    "         F.sum(col(candidates[3])).alias(candidates[3]), \\\n",
    "         F.sum(col(candidates[4])).alias(candidates[4]), \\\n",
    "         F.sum(col(candidates[5])).alias(candidates[5]), \\\n",
    "         F.sum(col(candidates[6])).alias(candidates[6]), \\\n",
    "         F.sum(col(candidates[7])).alias(candidates[7])) \\\n",
    "    .sort('Регион', ascending=True)"
   ]
  },
  {
   "cell_type": "code",
   "execution_count": 265,
   "metadata": {},
   "outputs": [
    {
     "name": "stdout",
     "output_type": "stream",
     "text": [
      "+--------------------+-------+--------+-----------+------+------+--------+-----+---------+\n",
      "|              Регион|Бабурин|Грудинин|Жириновский| Путин|Собчак|Сурайкин|Титов|Явлинский|\n",
      "+--------------------+-------+--------+-----------+------+------+--------+-----+---------+\n",
      "|      Алтайский край|   7581|  281978|      84785|770278| 11788|    7855| 5532|     7259|\n",
      "|    Амурская область|   2358|   73485|      37909|264493|  4428|    2466| 2080|     1951|\n",
      "|Архангельская обл...|   4448|   51868|      46925|407190| 10588|    3842| 4982|     6239|\n",
      "|Астраханская область|   2185|   64047|      19339|342195|  5060|    2823| 2233|     2504|\n",
      "|Белгородская область|   5218|   93102|      49685|711392|  8474|    6534| 4835|     4445|\n",
      "|    Брянская область|   4472|   68375|      43940|636087|  7463|    4265| 4175|     3524|\n",
      "|Владимирская область|   5440|   93649|      58822|546042| 10777|    5075| 6098|     6147|\n",
      "|Волгоградская обл...|   8040|  140708|      69909|929541| 14403|    8116| 6851|    10242|\n",
      "| Вологодская область|   5184|   75644|      54556|453576| 13365|    4567| 5333|     8048|\n",
      "| Воронежская область|   7830|  136435|      64905|952642| 13024|    8561| 7277|     7561|\n",
      "+--------------------+-------+--------+-----------+------+------+--------+-----+---------+\n",
      "only showing top 10 rows\n",
      "\n"
     ]
    }
   ],
   "source": [
    "df_region.show(10)"
   ]
  },
  {
   "cell_type": "code",
   "execution_count": 266,
   "metadata": {},
   "outputs": [],
   "source": [
    "df_russia = df_region \\\n",
    "    .withColumn('Страна', lit('Россия')) \\\n",
    "    .groupBy('Страна') \\\n",
    "    .agg(F.sum(col(candidates[0])).alias(candidates[0]), \\\n",
    "         F.sum(col(candidates[1])).alias(candidates[1]), \\\n",
    "         F.sum(col(candidates[2])).alias(candidates[2]), \\\n",
    "         F.sum(col(candidates[3])).alias(candidates[3]), \\\n",
    "         F.sum(col(candidates[4])).alias(candidates[4]), \\\n",
    "         F.sum(col(candidates[5])).alias(candidates[5]), \\\n",
    "         F.sum(col(candidates[6])).alias(candidates[6]), \\\n",
    "         F.sum(col(candidates[7])).alias(candidates[7])) "
   ]
  },
  {
   "cell_type": "code",
   "execution_count": 267,
   "metadata": {},
   "outputs": [
    {
     "name": "stdout",
     "output_type": "stream",
     "text": [
      "+------+-------+--------+-----------+--------+-------+--------+------+---------+\n",
      "|Страна|Бабурин|Грудинин|Жириновский|   Путин| Собчак|Сурайкин| Титов|Явлинский|\n",
      "+------+-------+--------+-----------+--------+-------+--------+------+---------+\n",
      "|Россия| 475599| 8608210|    4124987|56048674|1225330|  496001|552007|   762304|\n",
      "+------+-------+--------+-----------+--------+-------+--------+------+---------+\n",
      "\n"
     ]
    }
   ],
   "source": [
    "df_russia.show()"
   ]
  },
  {
   "cell_type": "code",
   "execution_count": 268,
   "metadata": {},
   "outputs": [],
   "source": [
    "df_total_amount = df_russia \\\n",
    "    .withColumn('Страна', lit('Россия')) \\\n",
    "    .withColumn('Общее кол-во голосов', reduce(add, [col(candidate) for candidate in candidates])) \\\n",
    "    .select('Страна', 'Общее кол-во голосов')"
   ]
  },
  {
   "cell_type": "code",
   "execution_count": 269,
   "metadata": {},
   "outputs": [
    {
     "name": "stdout",
     "output_type": "stream",
     "text": [
      "+------+--------------------+\n",
      "|Страна|Общее кол-во голосов|\n",
      "+------+--------------------+\n",
      "|Россия|            72293112|\n",
      "+------+--------------------+\n",
      "\n"
     ]
    }
   ],
   "source": [
    "df_total_amount.show()"
   ]
  },
  {
   "cell_type": "code",
   "execution_count": 270,
   "metadata": {},
   "outputs": [
    {
     "data": {
      "text/plain": [
       "72293112"
      ]
     },
     "execution_count": 270,
     "metadata": {},
     "output_type": "execute_result"
    }
   ],
   "source": [
    "total_amount = df_total_amount.collect()[0][1]\n",
    "total_amount"
   ]
  },
  {
   "cell_type": "code",
   "execution_count": 271,
   "metadata": {},
   "outputs": [],
   "source": [
    "df_russia_percent = df_region \\\n",
    "    .withColumn('Страна', lit('Россия')) \\\n",
    "    .groupBy('Страна') \\\n",
    "    .agg((F.round(100 * F.sum(col(candidates[0])) / total_amount)).alias(candidates[0] + ' (%)'), \\\n",
    "         (F.round(100 * F.sum(col(candidates[1])) / total_amount)).alias(candidates[1] + ' (%)'), \\\n",
    "         (F.round(100 * F.sum(col(candidates[2])) / total_amount)).alias(candidates[2] + ' (%)'), \\\n",
    "         (F.round(100 * F.sum(col(candidates[3])) / total_amount)).alias(candidates[3] + ' (%)'), \\\n",
    "         (F.round(100 * F.sum(col(candidates[4])) / total_amount)).alias(candidates[4] + ' (%)'), \\\n",
    "         (F.round(100 * F.sum(col(candidates[5])) / total_amount)).alias(candidates[5] + ' (%)'), \\\n",
    "         (F.round(100 * F.sum(col(candidates[6])) / total_amount)).alias(candidates[6] + ' (%)'), \\\n",
    "         (F.round(100 * F.sum(col(candidates[7])) / total_amount)).alias(candidates[7] + ' (%)')) "
   ]
  },
  {
   "cell_type": "code",
   "execution_count": 272,
   "metadata": {},
   "outputs": [
    {
     "name": "stdout",
     "output_type": "stream",
     "text": [
      "+------+-----------+------------+---------------+---------+----------+------------+---------+-------------+\n",
      "|Страна|Бабурин (%)|Грудинин (%)|Жириновский (%)|Путин (%)|Собчак (%)|Сурайкин (%)|Титов (%)|Явлинский (%)|\n",
      "+------+-----------+------------+---------------+---------+----------+------------+---------+-------------+\n",
      "|Россия|        1.0|        12.0|            6.0|     78.0|       2.0|         1.0|      1.0|          1.0|\n",
      "+------+-----------+------------+---------------+---------+----------+------------+---------+-------------+\n",
      "\n"
     ]
    }
   ],
   "source": [
    "df_russia_percent.show()"
   ]
  },
  {
   "cell_type": "code",
   "execution_count": 279,
   "metadata": {},
   "outputs": [
    {
     "data": {
      "text/plain": [
       "[1.0, 12.0, 6.0, 78.0, 2.0, 1.0, 1.0, 1.0]"
      ]
     },
     "execution_count": 279,
     "metadata": {},
     "output_type": "execute_result"
    }
   ],
   "source": [
    "total_amounts = [df_russia_percent.collect()[0][cand_ind + 1] for cand_ind in range(len(candidates))]\n",
    "total_amounts"
   ]
  },
  {
   "cell_type": "markdown",
   "metadata": {},
   "source": [
    "### 6. Количество УИК, на которых кандидат получил данный результат"
   ]
  },
  {
   "cell_type": "code",
   "execution_count": 273,
   "metadata": {},
   "outputs": [],
   "source": [
    "df_uik = df.groupBy('Регион', 'УИК') \\\n",
    "    .agg(F.sum(col(candidates[0])).alias(candidates[0]), \\\n",
    "         F.sum(col(candidates[1])).alias(candidates[1]), \\\n",
    "         F.sum(col(candidates[2])).alias(candidates[2]), \\\n",
    "         F.sum(col(candidates[3])).alias(candidates[3]), \\\n",
    "         F.sum(col(candidates[4])).alias(candidates[4]), \\\n",
    "         F.sum(col(candidates[5])).alias(candidates[5]), \\\n",
    "         F.sum(col(candidates[6])).alias(candidates[6]), \\\n",
    "         F.sum(col(candidates[7])).alias(candidates[7])) \\\n",
    "    .withColumn('Общее кол-во голосов', reduce(add, [col(candidate) for candidate in candidates])) \\\n",
    "    .sort('Регион', ascending=True)"
   ]
  },
  {
   "cell_type": "code",
   "execution_count": 274,
   "metadata": {},
   "outputs": [
    {
     "name": "stdout",
     "output_type": "stream",
     "text": [
      "+--------------+---------+-------+--------+-----------+-----+------+--------+-----+---------+--------------------+\n",
      "|        Регион|      УИК|Бабурин|Грудинин|Жириновский|Путин|Собчак|Сурайкин|Титов|Явлинский|Общее кол-во голосов|\n",
      "+--------------+---------+-------+--------+-----------+-----+------+--------+-----+---------+--------------------+\n",
      "|Алтайский край|УИК №1399|      5|     159|         47|  301|     5|       7|    1|        0|                 525|\n",
      "|Алтайский край| УИК №379|     13|     394|         84|  836|    16|      13|   11|       15|                1382|\n",
      "|Алтайский край| УИК №925|      1|       9|          2|  102|     1|       0|    0|        2|                 117|\n",
      "|Алтайский край|УИК №1314|      1|      16|          8|   72|     0|       1|    0|        0|                  98|\n",
      "|Алтайский край|УИК №1518|      2|     119|         31|  334|     2|       0|    0|        2|                 490|\n",
      "|Алтайский край| УИК №468|      8|     402|         78|  777|     5|       8|    8|       10|                1296|\n",
      "|Алтайский край| УИК №473|      4|     345|         77|  676|     5|       9|    5|        5|                1126|\n",
      "|Алтайский край| УИК №361|      3|     160|         42|  414|     3|       2|    2|        6|                 632|\n",
      "|Алтайский край|УИК №1834|      2|      12|          8|   28|     0|       1|    0|        0|                  51|\n",
      "|Алтайский край|УИК №1406|      2|      41|         17|  137|     1|       1|    1|        1|                 201|\n",
      "+--------------+---------+-------+--------+-----------+-----+------+--------+-----+---------+--------------------+\n",
      "only showing top 10 rows\n",
      "\n"
     ]
    }
   ],
   "source": [
    "df_uik.show(10)"
   ]
  },
  {
   "cell_type": "code",
   "execution_count": 291,
   "metadata": {},
   "outputs": [],
   "source": [
    "df_uik_percent = df_uik \\\n",
    "    .withColumn(candidates[0] + ' (%)', F.round(100 * col(candidates[0]) / col('Общее кол-во голосов'))) \\\n",
    "    .withColumn(candidates[1] + ' (%)', F.round(100 * col(candidates[1]) / col('Общее кол-во голосов'))) \\\n",
    "    .withColumn(candidates[2] + ' (%)', F.round(100 * col(candidates[2]) / col('Общее кол-во голосов'))) \\\n",
    "    .withColumn(candidates[3] + ' (%)', F.round(100 * col(candidates[3]) / col('Общее кол-во голосов'))) \\\n",
    "    .withColumn(candidates[4] + ' (%)', F.round(100 * col(candidates[4]) / col('Общее кол-во голосов'))) \\\n",
    "    .withColumn(candidates[5] + ' (%)', F.round(100 * col(candidates[5]) / col('Общее кол-во голосов'))) \\\n",
    "    .withColumn(candidates[6] + ' (%)', F.round(100 * col(candidates[6]) / col('Общее кол-во голосов'))) \\\n",
    "    .withColumn(candidates[7] + ' (%)', F.round(100 * col(candidates[7]) / col('Общее кол-во голосов'))) \\\n",
    "    .select('Регион', 'УИК', candidates[0] + ' (%)', candidates[1] + ' (%)', candidates[2] + ' (%)', \\\n",
    "           candidates[3] + ' (%)', candidates[4] + ' (%)', candidates[5] + ' (%)', \\\n",
    "           candidates[6] + ' (%)', candidates[7] + ' (%)') \\\n",
    "    .sort('Регион', 'УИК', ascending=True)"
   ]
  },
  {
   "cell_type": "code",
   "execution_count": 292,
   "metadata": {},
   "outputs": [
    {
     "name": "stdout",
     "output_type": "stream",
     "text": [
      "+--------------+---------+-----------+------------+---------------+---------+----------+------------+---------+-------------+\n",
      "|        Регион|      УИК|Бабурин (%)|Грудинин (%)|Жириновский (%)|Путин (%)|Собчак (%)|Сурайкин (%)|Титов (%)|Явлинский (%)|\n",
      "+--------------+---------+-----------+------------+---------------+---------+----------+------------+---------+-------------+\n",
      "|Алтайский край|   УИК №1|        1.0|        23.0|            9.0|     65.0|       1.0|         1.0|      0.0|          1.0|\n",
      "|Алтайский край|  УИК №10|        0.0|        23.0|           11.0|     63.0|       1.0|         1.0|      0.0|          1.0|\n",
      "|Алтайский край| УИК №100|        1.0|        28.0|            5.0|     62.0|       3.0|         0.0|      1.0|          1.0|\n",
      "|Алтайский край|УИК №1000|        1.0|        14.0|            6.0|     78.0|       0.0|         1.0|      0.0|          0.0|\n",
      "|Алтайский край|УИК №1001|        0.0|         9.0|           15.0|     76.0|       0.0|         0.0|      0.0|          0.0|\n",
      "|Алтайский край|УИК №1002|        2.0|         9.0|           14.0|     74.0|       0.0|         0.0|      2.0|          0.0|\n",
      "|Алтайский край|УИК №1003|        0.0|        15.0|            5.0|     77.0|       0.0|         3.0|      0.0|          0.0|\n",
      "|Алтайский край|УИК №1004|        0.0|         4.0|           14.0|     80.0|       0.0|         0.0|      0.0|          2.0|\n",
      "|Алтайский край|УИК №1005|        0.0|        15.0|           14.0|     68.0|       0.0|         2.0|      1.0|          0.0|\n",
      "|Алтайский край|УИК №1006|        1.0|        17.0|           15.0|     63.0|       1.0|         1.0|      1.0|          1.0|\n",
      "+--------------+---------+-----------+------------+---------------+---------+----------+------------+---------+-------------+\n",
      "only showing top 10 rows\n",
      "\n"
     ]
    }
   ],
   "source": [
    "df_uik_percent.show(10)"
   ]
  },
  {
   "cell_type": "code",
   "execution_count": 322,
   "metadata": {},
   "outputs": [],
   "source": [
    "def get_matches_for_candidate(cand_ind):\n",
    "    df_mathes = df_uik_percent.filter(col(candidates[cand_ind] + ' (%)') == total_amounts[cand_ind]) \\\n",
    "        .select('Регион', 'УИК', candidates[cand_ind] + ' (%)') \\\n",
    "        .sort('Регион', 'УИК', ascending=True)\n",
    "    return df_mathes "
   ]
  },
  {
   "cell_type": "code",
   "execution_count": 323,
   "metadata": {},
   "outputs": [],
   "source": [
    "def get_UIK_count(cand_ind):\n",
    "    df_mathes_cand = get_matches_for_candidate(cand_ind)\n",
    "    return df_mathes_cand.count()"
   ]
  },
  {
   "cell_type": "code",
   "execution_count": 324,
   "metadata": {},
   "outputs": [],
   "source": [
    "def get_UIK_counts():\n",
    "    UIK_counts = []\n",
    "    for cand_ind in range(len(candidates)):\n",
    "        UIK_count = get_UIK_count(cand_ind)\n",
    "        UIK_counts.append(UIK_count)\n",
    "    return UIK_counts"
   ]
  },
  {
   "cell_type": "code",
   "execution_count": 327,
   "metadata": {},
   "outputs": [],
   "source": [
    "ar_UIK_counts = get_UIK_counts()"
   ]
  },
  {
   "cell_type": "code",
   "execution_count": 328,
   "metadata": {},
   "outputs": [
    {
     "data": {
      "text/plain": [
       "[47866, 7717, 13479, 4735, 18518, 48795, 39817, 30656]"
      ]
     },
     "execution_count": 328,
     "metadata": {},
     "output_type": "execute_result"
    }
   ],
   "source": [
    "ar_UIK_counts"
   ]
  },
  {
   "cell_type": "code",
   "execution_count": 342,
   "metadata": {},
   "outputs": [],
   "source": [
    "result_columns = ['Название']\n",
    "for name in candidates:\n",
    "    result_columns.append(name)"
   ]
  },
  {
   "cell_type": "code",
   "execution_count": 345,
   "metadata": {},
   "outputs": [],
   "source": [
    "result_data = []\n",
    "amount_data = ['Результат (%)']\n",
    "for amount in total_amounts:\n",
    "    amount_data.append(int(amount))\n",
    "result_data.append(amount_data)\n",
    "counts_data = ['Кол-во УИК']\n",
    "for count in ar_UIK_counts:\n",
    "    counts_data.append(count)\n",
    "result_data.append(counts_data)"
   ]
  },
  {
   "cell_type": "code",
   "execution_count": 347,
   "metadata": {},
   "outputs": [],
   "source": [
    "df_result = spark.createDataFrame(result_data, result_columns)"
   ]
  },
  {
   "cell_type": "code",
   "execution_count": 348,
   "metadata": {},
   "outputs": [
    {
     "name": "stdout",
     "output_type": "stream",
     "text": [
      "+-------------+-------+--------+-----------+-----+------+--------+-----+---------+\n",
      "|     Название|Бабурин|Грудинин|Жириновский|Путин|Собчак|Сурайкин|Титов|Явлинский|\n",
      "+-------------+-------+--------+-----------+-----+------+--------+-----+---------+\n",
      "|Результат (%)|      1|      12|          6|   78|     2|       1|    1|        1|\n",
      "|   Кол-во УИК|  47866|    7717|      13479| 4735| 18518|   48795|39817|    30656|\n",
      "+-------------+-------+--------+-----------+-----+------+--------+-----+---------+\n",
      "\n"
     ]
    }
   ],
   "source": [
    "df_result.show()"
   ]
  }
 ],
 "metadata": {
  "kernelspec": {
   "display_name": "Python 3",
   "language": "python",
   "name": "python3"
  },
  "language_info": {
   "codemirror_mode": {
    "name": "ipython",
    "version": 3
   },
   "file_extension": ".py",
   "mimetype": "text/x-python",
   "name": "python",
   "nbconvert_exporter": "python",
   "pygments_lexer": "ipython3",
   "version": "3.8.2"
  }
 },
 "nbformat": 4,
 "nbformat_minor": 4
}
