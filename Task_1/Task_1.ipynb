{
 "cells": [
  {
   "cell_type": "markdown",
   "metadata": {},
   "source": [
    "# Задача 1\n",
    "Нужно написать две программы: \n",
    "\n",
    "1. Первая генерирует бинарный файл (min 2Гб), состоящий из случайных 32-разрядных беззнаковых целых чисел (big endian). \n",
    "\n",
    "\n",
    "2. Вторая считает сумму этих чисел (с применением длинной арифметики), находит минимальное и максимальное число.\n",
    "\n",
    "Реализуйте две версии: \n",
    "* Простое последовательное чтение \n",
    "* Многопоточная + memory-mapped files. \n",
    "\n",
    "Сравните время работы."
   ]
  },
  {
   "cell_type": "code",
   "execution_count": 1,
   "metadata": {},
   "outputs": [],
   "source": [
    "import numpy as np\n",
    "import time\n",
    "import threading\n",
    "import mmap\n",
    "from concurrent.futures import ThreadPoolExecutor\n",
    "import concurrent.futures"
   ]
  },
  {
   "cell_type": "markdown",
   "metadata": {},
   "source": [
    "## Генерация бинарного файла "
   ]
  },
  {
   "cell_type": "code",
   "execution_count": 2,
   "metadata": {},
   "outputs": [],
   "source": [
    "def get_numbers():\n",
    "    highest_uint32 = 2 ** 32 \n",
    "    amount_of_4B_in_1GB = (2 ** 10) * (2 ** 10) * (2 ** 8)\n",
    "    return np.random.randint(0, high = highest_uint32, size = amount_of_4B_in_1GB, dtype = np.dtype('uint32')) "
   ]
  },
  {
   "cell_type": "code",
   "execution_count": 3,
   "metadata": {},
   "outputs": [],
   "source": [
    "def generate_file(file_name):\n",
    "    arr = get_numbers()\n",
    "    with open(file_name, 'wb') as f:\n",
    "        for number in arr:\n",
    "            f.write(number.tobytes())\n",
    "        f.close()"
   ]
  },
  {
   "cell_type": "code",
   "execution_count": 2,
   "metadata": {},
   "outputs": [],
   "source": [
    "f_name = \"uint32_numbers.txt\""
   ]
  },
  {
   "cell_type": "code",
   "execution_count": 5,
   "metadata": {},
   "outputs": [],
   "source": [
    "generate_file(f_name)"
   ]
  },
  {
   "cell_type": "markdown",
   "metadata": {},
   "source": [
    "## Последовательные вычисления"
   ]
  },
  {
   "cell_type": "code",
   "execution_count": 3,
   "metadata": {},
   "outputs": [],
   "source": [
    "def print_results(title, time_sum_min_max):\n",
    "    print(title)\n",
    "    print(\"Время работы (c): \", time_sum_min_max[0])\n",
    "    print(\"Сумма чисел: \", time_sum_min_max[1])\n",
    "    print(\"Минимальное число: \", time_sum_min_max[2])\n",
    "    print(\"Максимальное число: \", time_sum_min_max[3])"
   ]
  },
  {
   "cell_type": "code",
   "execution_count": 4,
   "metadata": {},
   "outputs": [],
   "source": [
    "def sequential_calculations(file_name):\n",
    "    start_time = time.time()\n",
    "\n",
    "    with open(file_name, 'rb') as f:\n",
    "        buf = f.read()\n",
    "        arr = np.frombuffer(buf, dtype = np.dtype('uint32').newbyteorder('B'))\n",
    "        \n",
    "        num_sum = 0\n",
    "        min_num = 2 ** 32 \n",
    "        max_num = 0\n",
    "        \n",
    "        for num in arr:\n",
    "            num_sum += num\n",
    "            if (num < min_num):\n",
    "                min_num = num\n",
    "            if(num > max_num):\n",
    "                max_num = num\n",
    "        \n",
    "        f.close()\n",
    "    \n",
    "    result_time = time.time() - start_time\n",
    "    return [result_time, num_sum, min_num, max_num]"
   ]
  },
  {
   "cell_type": "code",
   "execution_count": 5,
   "metadata": {},
   "outputs": [],
   "source": [
    "sequential_results = sequential_calculations(f_name)"
   ]
  },
  {
   "cell_type": "code",
   "execution_count": 6,
   "metadata": {},
   "outputs": [
    {
     "name": "stdout",
     "output_type": "stream",
     "text": [
      "Последовательные вычисления\n",
      "Время работы (c):  256.2826988697052\n",
      "Сумма чисел:  576451367301247579\n",
      "Минимальное число:  3\n",
      "Максимальное число:  4294967244\n"
     ]
    }
   ],
   "source": [
    "print_results(\"Последовательные вычисления\", sequential_results)"
   ]
  },
  {
   "cell_type": "markdown",
   "metadata": {},
   "source": [
    "## Последовательные вычисления с помощью встроенных функций"
   ]
  },
  {
   "cell_type": "code",
   "execution_count": 10,
   "metadata": {},
   "outputs": [],
   "source": [
    "def built_in_func_calculations(file_name):\n",
    "    start_time = time.time()\n",
    "\n",
    "    with open(file_name, 'rb') as f:\n",
    "        buf = f.read()\n",
    "        arr = np.frombuffer(buf, dtype = np.dtype('uint32').newbyteorder('B'))\n",
    "        \n",
    "        num_sum = sum(arr)\n",
    "        min_num = min(arr)\n",
    "        max_num = max(arr)\n",
    "        \n",
    "        f.close()\n",
    "    \n",
    "    result_time = time.time() - start_time\n",
    "    return [result_time, num_sum, min_num, max_num]"
   ]
  },
  {
   "cell_type": "code",
   "execution_count": 11,
   "metadata": {},
   "outputs": [],
   "source": [
    "built_in_func_results = built_in_func_calculations(f_name)"
   ]
  },
  {
   "cell_type": "code",
   "execution_count": 12,
   "metadata": {},
   "outputs": [
    {
     "name": "stdout",
     "output_type": "stream",
     "text": [
      "Последовательные вычисления с помощью функций numpy\n",
      "Время работы (c):  313.1986496448517\n",
      "Сумма чисел:  576451367301247579\n",
      "Минимальное число:  3\n",
      "Максимальное число:  4294967244\n"
     ]
    }
   ],
   "source": [
    "print_results(\"Последовательные вычисления с помощью функций numpy\", built_in_func_results)"
   ]
  },
  {
   "cell_type": "markdown",
   "metadata": {},
   "source": [
    "## Многопоточность + memory-mapped files"
   ]
  },
  {
   "cell_type": "code",
   "execution_count": 13,
   "metadata": {},
   "outputs": [],
   "source": [
    "def thread_calc(file_name, results, thr_index, chunk_start, chunk_end):\n",
    "    with open(file_name, 'rb') as f:\n",
    "        buf = mmap.mmap(f.fileno(), length = chunk_end - chunk_start, offset = chunk_start, access = mmap.ACCESS_READ)        \n",
    "        arr = np.frombuffer(buf, dtype = np.dtype('uint32').newbyteorder('B'))\n",
    "        \n",
    "        for num in arr:\n",
    "            results[0][thr_index] += num\n",
    "            if (num < results[1][thr_index]):\n",
    "                results[1][thr_index] = num\n",
    "            if (num > results[2][thr_index]):\n",
    "                results[2][thr_index] = num \n",
    "                \n",
    "        f.close()"
   ]
  },
  {
   "cell_type": "code",
   "execution_count": 23,
   "metadata": {},
   "outputs": [],
   "source": [
    "def multithreaded_calculations_with_mmap(file_name, threads_num):\n",
    "    start_time = time.time()\n",
    "    numbers_amount = (2 ** 10) * (2 ** 10) * (2 ** 8)\n",
    "    \n",
    "    threads_sum = [0] * threads_num\n",
    "    threads_min = [2 ** 32] * threads_num\n",
    "    threads_max = [0] * threads_num\n",
    "    \n",
    "    thr_results = [threads_sum, threads_min, threads_max]\n",
    "    \n",
    "    threads = []\n",
    "    chunk_size = int(numbers_amount / threads_num)\n",
    "    chunk_start = 0\n",
    "    \n",
    "    for thr_index in range(threads_num):\n",
    "        chunk_end = chunk_start + chunk_size\n",
    "        cur_thread = threading.Thread(target = thread_calc, args = (file_name, thr_results, thr_index, chunk_start, chunk_end))\n",
    "        threads.append(cur_thread)\n",
    "        cur_thread.start()\n",
    "        chunk_start = chunk_end\n",
    "    \n",
    "    for thr in threads:\n",
    "        thr.join()\n",
    "    \n",
    "#     num_sum = sum(thr_results[0])\n",
    "#     min_num = min(thr_results[1])\n",
    "#     max_num = max(thr_results[2])\n",
    "\n",
    "    total_num_sum = 0\n",
    "    total_min_num = 2 ** 32 \n",
    "    total_max_num = 0\n",
    "    \n",
    "    for num_sum in thr_results[0]:\n",
    "        total_num_sum += num_sum\n",
    "    \n",
    "    for min_num in thr_results[1]:\n",
    "        if (min_num < total_min_num):\n",
    "            total_min_num = min_num\n",
    "            \n",
    "    for max_num in thr_results[2]:\n",
    "        if (max_num > total_max_num):\n",
    "            total_max_num = max_num\n",
    "    \n",
    "    result_time = time.time() - start_time\n",
    "    return [result_time, total_num_sum, total_min_num, total_max_num]"
   ]
  },
  {
   "cell_type": "code",
   "execution_count": 4,
   "metadata": {},
   "outputs": [],
   "source": [
    "threads_number = 2 ** 8"
   ]
  },
  {
   "cell_type": "code",
   "execution_count": 25,
   "metadata": {},
   "outputs": [],
   "source": [
    "multithreaded_results = multithreaded_calculations_with_mmap(f_name, threads_number)"
   ]
  },
  {
   "cell_type": "code",
   "execution_count": 26,
   "metadata": {},
   "outputs": [
    {
     "name": "stdout",
     "output_type": "stream",
     "text": [
      "Многопоточные вычисления и memory-mapped file\n",
      "Время работы (c):  108.36901473999023\n",
      "Сумма чисел:  144118369208273030\n",
      "Минимальное число:  27\n",
      "Максимальное число:  4294967244\n"
     ]
    }
   ],
   "source": [
    "print_results(\"Многопоточные вычисления и memory-mapped file\", multithreaded_results)"
   ]
  },
  {
   "cell_type": "markdown",
   "metadata": {},
   "source": [
    "## Многопоточность (futures) + memory-mapped files"
   ]
  },
  {
   "cell_type": "code",
   "execution_count": 5,
   "metadata": {},
   "outputs": [],
   "source": [
    "def futures_calc(chunk):\n",
    "    return [sum(int(x) for x in chunk), np.min(chunk), np.max(chunk)]"
   ]
  },
  {
   "cell_type": "code",
   "execution_count": 6,
   "metadata": {},
   "outputs": [],
   "source": [
    "def multithreaded_calculations_with_mmap_and_futures(file_name, threads_num):\n",
    "    start_time = time.time()  \n",
    "    results = [0, 2 ** 32, 0]\n",
    "    \n",
    "    with open(file_name, 'rb') as f:\n",
    "        buf = mmap.mmap(f.fileno(), length = 0, offset = 0, access = mmap.ACCESS_READ)\n",
    "        arr = np.frombuffer(buf, dtype = np.dtype('uint32').newbyteorder('B'))\n",
    "                \n",
    "        chunks_num = len(arr) // threads_num\n",
    "        chunks = [arr[i:i+chunks_num] for i in range(0, len(arr), chunks_num)] \n",
    "                \n",
    "        executor = ThreadPoolExecutor(max_workers = threads_num)        \n",
    "        futures = {executor.submit(futures_calc, chunk): chunk for chunk in chunks}\n",
    "                \n",
    "        for future in concurrent.futures.as_completed(futures):\n",
    "            results[0] += future.result()[0]\n",
    "            if (future.result()[1] < results[1]):\n",
    "                results[1] = future.result()[1]\n",
    "            if (future.result()[2] > results[2]):\n",
    "                results[2] = future.result()[2] \n",
    "\n",
    "    result_time = time.time() - start_time\n",
    "    return [result_time, results[0], results[1], results[2]]"
   ]
  },
  {
   "cell_type": "code",
   "execution_count": 7,
   "metadata": {},
   "outputs": [],
   "source": [
    "futures_results = multithreaded_calculations_with_mmap_and_futures(f_name, threads_number)"
   ]
  },
  {
   "cell_type": "code",
   "execution_count": 8,
   "metadata": {},
   "outputs": [
    {
     "name": "stdout",
     "output_type": "stream",
     "text": [
      "Многопоточные вычисления (futures) и memory-mapped file\n",
      "Время работы (c):  185.91981887817383\n",
      "Сумма чисел:  576451367301247579\n",
      "Минимальное число:  3\n",
      "Максимальное число:  4294967244\n"
     ]
    }
   ],
   "source": [
    "print_results(\"Многопоточные вычисления (futures) и memory-mapped file\", futures_results)"
   ]
  }
 ],
 "metadata": {
  "kernelspec": {
   "display_name": "Python 3",
   "language": "python",
   "name": "python3"
  },
  "language_info": {
   "codemirror_mode": {
    "name": "ipython",
    "version": 3
   },
   "file_extension": ".py",
   "mimetype": "text/x-python",
   "name": "python",
   "nbconvert_exporter": "python",
   "pygments_lexer": "ipython3",
   "version": "3.8.2"
  }
 },
 "nbformat": 4,
 "nbformat_minor": 4
}
